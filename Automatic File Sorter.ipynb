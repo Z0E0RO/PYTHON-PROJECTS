{
 "cells": [
  {
   "cell_type": "code",
   "execution_count": 2,
   "id": "11497fd9",
   "metadata": {},
   "outputs": [],
   "source": [
    "import os\n",
    "import shutil"
   ]
  },
  {
   "cell_type": "code",
   "execution_count": 3,
   "id": "bd714dca",
   "metadata": {},
   "outputs": [],
   "source": [
    "path = 'D:\\Demo'"
   ]
  },
  {
   "cell_type": "code",
   "execution_count": 3,
   "id": "5458f4c7",
   "metadata": {},
   "outputs": [
    {
     "data": {
      "text/plain": [
       "['1329765.jpeg', 'checkout.txt', 'DS ROADMAP.pdf']"
      ]
     },
     "execution_count": 3,
     "metadata": {},
     "output_type": "execute_result"
    }
   ],
   "source": [
    "files = os.listdir(path)"
   ]
  },
  {
   "cell_type": "code",
   "execution_count": null,
   "id": "07aa3c08",
   "metadata": {},
   "outputs": [],
   "source": [
    "for file in files:\n",
    "    name, ext = os.path.splitext(file)\n",
    "    ext = ext[1:]\n",
    "    if ext == \"\":\n",
    "        continue\n",
    "    if os.path.exists(os.path.join(path, ext)):\n",
    "        shutil.move(os.path.join(path, file), os.path.join(os.path.joint(path, ext), file))\n",
    "    else:\n",
    "        os.makedirs(os.path.join(path, ext))\n",
    "        shutil.move(os.path.join(path, file), os.path.join(os.path.joint(path, ext), file))\n",
    "    "
   ]
  }
 ],
 "metadata": {
  "kernelspec": {
   "display_name": "Python 3 (ipykernel)",
   "language": "python",
   "name": "python3"
  },
  "language_info": {
   "codemirror_mode": {
    "name": "ipython",
    "version": 3
   },
   "file_extension": ".py",
   "mimetype": "text/x-python",
   "name": "python",
   "nbconvert_exporter": "python",
   "pygments_lexer": "ipython3",
   "version": "3.11.3"
  }
 },
 "nbformat": 4,
 "nbformat_minor": 5
}
